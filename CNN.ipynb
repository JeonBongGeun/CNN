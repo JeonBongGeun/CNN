{
  "nbformat": 4,
  "nbformat_minor": 0,
  "metadata": {
    "colab": {
      "name": "CNN.ipynb",
      "provenance": [],
      "authorship_tag": "ABX9TyMw0zjqZMUim4+V4wvj20Lf",
      "include_colab_link": true
    },
    "kernelspec": {
      "name": "python3",
      "display_name": "Python 3"
    }
  },
  "cells": [
    {
      "cell_type": "markdown",
      "metadata": {
        "id": "view-in-github",
        "colab_type": "text"
      },
      "source": [
        "<a href=\"https://colab.research.google.com/github/JeonBongGeun/CNN/blob/master/CNN.ipynb\" target=\"_parent\"><img src=\"https://colab.research.google.com/assets/colab-badge.svg\" alt=\"Open In Colab\"/></a>"
      ]
    },
    {
      "cell_type": "markdown",
      "metadata": {
        "id": "FC9S37rDbExa",
        "colab_type": "text"
      },
      "source": [
        "# tensorflow import + MNIST 데이터셋 읽어오기"
      ]
    },
    {
      "cell_type": "code",
      "metadata": {
        "id": "G5o5OE6Ba4kt",
        "colab_type": "code",
        "colab": {
          "base_uri": "https://localhost:8080/",
          "height": 85
        },
        "outputId": "64ef96b2-ad4f-4f5a-818a-274137ef8b37"
      },
      "source": [
        "import tensorflow as tf\n",
        "from tensorflow.examples.tutorials.mnist import input_data\n",
        "mnist = input_data.read_data_sets('MNIST_data', one_hot = True, reshape = False)"
      ],
      "execution_count": 58,
      "outputs": [
        {
          "output_type": "stream",
          "text": [
            "Extracting MNIST_data/train-images-idx3-ubyte.gz\n",
            "Extracting MNIST_data/train-labels-idx1-ubyte.gz\n",
            "Extracting MNIST_data/t10k-images-idx3-ubyte.gz\n",
            "Extracting MNIST_data/t10k-labels-idx1-ubyte.gz\n"
          ],
          "name": "stdout"
        }
      ]
    },
    {
      "cell_type": "markdown",
      "metadata": {
        "id": "OF9Y1OV4b6X3",
        "colab_type": "text"
      },
      "source": [
        "CNN 모델 설정 및 Placeholder 설정"
      ]
    },
    {
      "cell_type": "code",
      "metadata": {
        "id": "1nlUjJIUbiDr",
        "colab_type": "code",
        "colab": {}
      },
      "source": [
        "X = tf.placeholder(tf.float32, shape = [None, 28, 28, 1])\n",
        "Y_Label = tf.placeholder(tf.float32, shape = [None, 10])"
      ],
      "execution_count": 0,
      "outputs": []
    },
    {
      "cell_type": "markdown",
      "metadata": {
        "id": "Nbg5fj7TcYBO",
        "colab_type": "text"
      },
      "source": [
        "Convolutional Layer 만들기"
      ]
    },
    {
      "cell_type": "code",
      "metadata": {
        "id": "-kPMskDVcc9n",
        "colab_type": "code",
        "colab": {}
      },
      "source": [
        "Kernel1 = tf.Variable(tf.truncated_normal(shape = [4, 4, 1, 4], stddev = 0.1))\n",
        "Bias1 = tf.Variable(tf.truncated_normal(shape = [4], stddev = 0.1))\n",
        "Conv1 = tf.nn.conv2d(X, Kernel1, strides = [1, 1, 1, 1], padding = 'SAME') + Bias1\n",
        "Activation1 = tf.nn.relu(Conv1)\n",
        "Pool1 = tf.nn.max_pool(Activation1, ksize = [1, 2, 2, 1], strides = [1, 2, 2, 1], padding = 'SAME')"
      ],
      "execution_count": 0,
      "outputs": []
    },
    {
      "cell_type": "code",
      "metadata": {
        "id": "xQ2JFZwUeLV-",
        "colab_type": "code",
        "colab": {}
      },
      "source": [
        "Kernel2 = tf.Variable(tf.truncated_normal(shape = [4, 4, 4, 8], stddev = 0.1))\n",
        "Bias2 = tf.Variable(tf.truncated_normal(shape = [8], stddev = 0.1))\n",
        "Conv2 = tf.nn.conv2d(Pool1, Kernel2, strides = [1, 1, 1, 1], padding = 'SAME') + Bias2\n",
        "Activation2 = tf.nn.relu(Conv2)\n",
        "Pool2 = tf.nn.max_pool(Activation2, ksize = [1, 2, 2, 1], strides = [1, 2, 2, 1], padding = 'SAME')"
      ],
      "execution_count": 0,
      "outputs": []
    },
    {
      "cell_type": "markdown",
      "metadata": {
        "id": "zK1XgQdLdRSy",
        "colab_type": "text"
      },
      "source": [
        "Fully Connected Layer 만들기"
      ]
    },
    {
      "cell_type": "code",
      "metadata": {
        "id": "21bemiATdc7J",
        "colab_type": "code",
        "colab": {}
      },
      "source": [
        "W1 = tf.Variable(tf.truncated_normal(shape = [8 * 7 * 7, 10]))\n",
        "B1 = tf.Variable(tf.truncated_normal(shape = [10]))\n",
        "Pool2_flat = tf.reshape(Pool2, [-1, 8 * 7 * 7])\n",
        "OutputLayer = tf.matmul(Pool2_flat, W1) + B1"
      ],
      "execution_count": 0,
      "outputs": []
    },
    {
      "cell_type": "markdown",
      "metadata": {
        "id": "VHHDEHQceo8f",
        "colab_type": "text"
      },
      "source": [
        "Loss Function과 Optimizer 설정 그리고 RUN"
      ]
    },
    {
      "cell_type": "code",
      "metadata": {
        "id": "0f5D5IO7evjg",
        "colab_type": "code",
        "colab": {}
      },
      "source": [
        "Loss = tf.reduce_mean(tf.nn.softmax_cross_entropy_with_logits(labels = Y_Label, logits = OutputLayer))\n",
        "train_step = tf.train.AdamOptimizer(0.005).minimize(Loss)\n",
        "\n",
        "correct_prediction = tf.equal(tf.argmax(OutputLayer, 1), tf.argmax(Y_Label, 1))\n",
        "accurancy = tf.reduce_mean(tf.cast(correct_prediction, tf.float32))\n",
        "\n",
        "with tf.Session() as sess:\n",
        "  print(\"Start....\")\n",
        "  sess.run(tf.global_variables_initializer())\n",
        "  for i in range(10000):\n",
        "    trainingData, Y = mnist.train.next_batch(64)\n",
        "    sess.run(train_step, feed_dict = {X : trainingData, Y_Label : Y})\n",
        "    if i % 100 :\n",
        "      print(sess.run(accurancy, feed_dict = {X:mnist.test.images, Y_Label:mnist.test.labels}))"
      ],
      "execution_count": 0,
      "outputs": []
    }
  ]
}